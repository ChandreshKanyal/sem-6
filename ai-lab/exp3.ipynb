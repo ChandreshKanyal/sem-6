{
 "cells": [
  {
   "cell_type": "code",
   "execution_count": 1,
   "metadata": {},
   "outputs": [
    {
     "name": "stdout",
     "output_type": "stream",
     "text": [
      "EAT + THAT = APPLE \n",
      "74285 + 6034 = 80319 (mapping: {'i': 2, 'o': 4, 'y': 9, 'e': 0, 'p': 7, 'r': 3, 'z': 6, 'n': 8, 't': 5, 'g': 1})\n",
      "71385 + 9041 = 80426 (mapping: {'i': 3, 'o': 1, 'y': 6, 'e': 0, 'p': 7, 'r': 4, 'z': 9, 'n': 8, 't': 5, 'g': 2})\n",
      "58369 + 2048 = 60417 (mapping: {'i': 3, 'o': 8, 'y': 7, 'e': 0, 'p': 5, 'r': 4, 'z': 2, 'n': 6, 't': 9, 'g': 1})\n",
      "62479 + 8052 = 70531 (mapping: {'i': 4, 'o': 2, 'y': 1, 'e': 0, 'p': 6, 'r': 5, 'z': 8, 'n': 7, 't': 9, 'g': 3})\n",
      "71582 + 9061 = 80643 (mapping: {'i': 5, 'o': 1, 'y': 3, 'e': 0, 'p': 7, 'r': 6, 'z': 9, 'n': 8, 't': 2, 'g': 4})\n",
      "98504 + 3168 = 101672 (mapping: {'i': 5, 'o': 8, 'y': 2, 'e': 1, 'p': 9, 'r': 6, 'z': 3, 'n': 0, 't': 4, 'g': 7})\n",
      "38549 + 2068 = 40617 (mapping: {'i': 5, 'o': 8, 'y': 7, 'e': 0, 'p': 3, 'r': 6, 'z': 2, 'n': 4, 't': 9, 'g': 1})\n",
      "42659 + 8072 = 50731 (mapping: {'i': 6, 'o': 2, 'y': 1, 'e': 0, 'p': 4, 'r': 7, 'z': 8, 'n': 5, 't': 9, 'g': 3})\n",
      "51762 + 9081 = 60843 (mapping: {'i': 7, 'o': 1, 'y': 3, 'e': 0, 'p': 5, 'r': 8, 'z': 9, 'n': 6, 't': 2, 'g': 4})\n",
      "31745 + 9081 = 40826 (mapping: {'i': 7, 'o': 1, 'y': 6, 'e': 0, 'p': 3, 'r': 8, 'z': 9, 'n': 4, 't': 5, 'g': 2})\n",
      "24735 + 6084 = 30819 (mapping: {'i': 7, 'o': 4, 'y': 9, 'e': 0, 'p': 2, 'r': 8, 'z': 6, 'n': 3, 't': 5, 'g': 1})\n"
     ]
    }
   ],
   "source": [
    "import itertools\n",
    "\n",
    "\n",
    "def get_value(word, substitution):\n",
    "    s = sum(substitution[letter] * (10**i) for i, letter in enumerate(reversed(word)))\n",
    "    return s\n",
    "\n",
    "\n",
    "def solve2(equation):\n",
    "    left, right = equation.lower().replace(\" \", \"\").split(\"=\")\n",
    "    left = left.split(\"+\")\n",
    "    letters = set(right).union(letter for word in left for letter in word)\n",
    "    letters = list(letters)\n",
    "\n",
    "    digits = range(10)\n",
    "    for perm in itertools.permutations(digits, len(letters)):\n",
    "        sol = dict(zip(letters, perm))\n",
    "\n",
    "        if sum(get_value(word, sol) for word in left) == get_value(right, sol):\n",
    "            print(\n",
    "                \" + \".join(str(get_value(word, sol)) for word in left)\n",
    "                + \" = {} (mapping: {})\".format(get_value(right, sol), sol)\n",
    "            )\n",
    "\n",
    "\n",
    "print(\"EAT + THAT = APPLE \")\n",
    "solve2(\"POINT + ZERO = ENERGY \")"
   ]
  }
 ],
 "metadata": {
  "kernelspec": {
   "display_name": "Python 3",
   "language": "python",
   "name": "python3"
  },
  "language_info": {
   "codemirror_mode": {
    "name": "ipython",
    "version": 3
   },
   "file_extension": ".py",
   "mimetype": "text/x-python",
   "name": "python",
   "nbconvert_exporter": "python",
   "pygments_lexer": "ipython3",
   "version": "3.12.1"
  }
 },
 "nbformat": 4,
 "nbformat_minor": 2
}
