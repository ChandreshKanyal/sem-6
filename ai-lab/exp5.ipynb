{
 "cells": [
  {
   "cell_type": "code",
   "execution_count": 1,
   "metadata": {},
   "outputs": [
    {
     "data": {
      "text/plain": [
       "-1"
      ]
     },
     "execution_count": 1,
     "metadata": {},
     "output_type": "execute_result"
    }
   ],
   "source": [
    "import collections\n",
    "\n",
    "\n",
    "def bfs(forest, sr, sc, tr, tc):\n",
    "    R, C = len(forest), len(forest[0])\n",
    "    queue = collections.deque([(sr, sc, 0)])\n",
    "    seen = {(sr, sc)}\n",
    "    while queue:\n",
    "        r, c, d = queue.popleft()\n",
    "        if r == tr and c == tc:\n",
    "            return d\n",
    "        for nr, nc in ((r - 1, c), (r + 1, c), (r, c - 1), (r, c + 1)):\n",
    "            if 0 <= nr < R and 0 <= nc < C and (nr, nc) not in seen and forest[nr][nc]:\n",
    "                seen.add((nr, nc))\n",
    "                queue.append((nr, nc, d + 1))\n",
    "    return -1\n",
    "\n",
    "\n",
    "bfs([[1, 2, 3], [0, 0, 4], [7, 6, 5]], 0, 0, 1, 1)"
   ]
  },
  {
   "cell_type": "code",
   "execution_count": 3,
   "metadata": {},
   "outputs": [
    {
     "name": "stdout",
     "output_type": "stream",
     "text": [
      "Shortest path length: -1\n"
     ]
    }
   ],
   "source": [
    "import heapq\n",
    "\n",
    "def astar(forest, sr, sc, tr, tc):\n",
    "    R, C = len(forest), len(forest[0])\n",
    "    heap = [(0, 0, sr, sc)]\n",
    "    cost = {(sr, sc): 0}\n",
    "    while heap:\n",
    "        f, g, r, c = heapq.heappop(heap)\n",
    "        if r == tr and c == tc:\n",
    "            return g\n",
    "        for nr, nc in ((r - 1, c), (r + 1, c), (r, c - 1), (r, c + 1)):\n",
    "            if 0 <= nr < R and 0 <= nc < C and forest[nr][nc]:\n",
    "                ncost = g + 1 + abs(nr - tr) + abs(nc - tc)\n",
    "                if ncost < cost.get((nr, nc), 9999):\n",
    "                    cost[nr, nc] = ncost\n",
    "                    heapq.heappush(heap, (ncost, g + 1, nr, nc))\n",
    "    return -1\n",
    "\n",
    "\n",
    "result = astar([[1, 2, 3], [0, 0, 4], [7, 6, 5]], 0, 0, 1, 1)\n",
    "print(\"Shortest path length:\", result)"
   ]
  }
 ],
 "metadata": {
  "kernelspec": {
   "display_name": "Python 3",
   "language": "python",
   "name": "python3"
  },
  "language_info": {
   "codemirror_mode": {
    "name": "ipython",
    "version": 3
   },
   "file_extension": ".py",
   "mimetype": "text/x-python",
   "name": "python",
   "nbconvert_exporter": "python",
   "pygments_lexer": "ipython3",
   "version": "3.12.1"
  }
 },
 "nbformat": 4,
 "nbformat_minor": 2
}
