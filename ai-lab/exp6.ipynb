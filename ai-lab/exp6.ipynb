{
 "cells": [
  {
   "cell_type": "code",
   "execution_count": 1,
   "metadata": {},
   "outputs": [
    {
     "name": "stdout",
     "output_type": "stream",
     "text": [
      "The First Fuzzy Set is : {'a': 0.2, 'b': 0.3, 'c': 0.6, 'd': 0.6}\n",
      "The Second Fuzzy Set is : {'a': 0.9, 'b': 0.9, 'c': 0.4, 'd': 0.5}\n",
      "Fuzzy Set Union is : {'a': 0.9, 'b': 0.9, 'c': 0.6, 'd': 0.6}\n"
     ]
    }
   ],
   "source": [
    "A = dict()\n",
    "B = dict()\n",
    "Y = dict()\n",
    "X = dict()\n",
    "A = {\"a\": 0.2, \"b\": 0.3, \"c\": 0.6, \"d\": 0.6}\n",
    "B = {\"a\": 0.9, \"b\": 0.9, \"c\": 0.4, \"d\": 0.5}\n",
    "print(\"The First Fuzzy Set is :\", A)\n",
    "print(\"The Second Fuzzy Set is :\", B)\n",
    "for A_key, B_key in zip(A, B):\n",
    "    A_value = A[A_key]\n",
    "    B_value = B[B_key]\n",
    "    if A_value > B_value:\n",
    "        Y[A_key] = A_value\n",
    "    else:\n",
    "        Y[B_key] = B_value\n",
    "\n",
    "print(\"Fuzzy Set Union is :\", Y)"
   ]
  },
  {
   "cell_type": "code",
   "execution_count": 1,
   "metadata": {},
   "outputs": [
    {
     "name": "stdout",
     "output_type": "stream",
     "text": [
      "Combined belief function: {'A': 0, 'B': 0.2, 'C': 0.12}\n"
     ]
    }
   ],
   "source": [
    "def dempster_combination(belief1, belief2):\n",
    "    # Input: belief1 and belief2 are dictionaries representing belief functions\n",
    "    combined_belief = {}\n",
    "   \n",
    "    for hypothesis in belief1:\n",
    "        combined_belief[hypothesis] = 0\n",
    "       \n",
    "        for hypothesis2 in belief2:\n",
    "            intersection = set(hypothesis).intersection(hypothesis2)\n",
    "            if intersection:\n",
    "                combined_belief[hypothesis] += belief1[hypothesis] * belief2[hypothesis2]\n",
    "               \n",
    "    return combined_belief\n",
    "\n",
    "# Example usage\n",
    "belief1 = {'A': 0.3, 'B': 0.5, 'C': 0.2}  # Belief function 1\n",
    "belief2 = {'B': 0.4, 'C': 0.6, 'D': 0.3}  # Belief function 2\n",
    "\n",
    "combined_belief = dempster_combination(belief1, belief2)\n",
    "print(\"Combined belief function:\", combined_belief)"
   ]
  },
  {
   "cell_type": "code",
   "execution_count": null,
   "metadata": {},
   "outputs": [],
   "source": []
  }
 ],
 "metadata": {
  "kernelspec": {
   "display_name": "Python 3",
   "language": "python",
   "name": "python3"
  },
  "language_info": {
   "codemirror_mode": {
    "name": "ipython",
    "version": 3
   },
   "file_extension": ".py",
   "mimetype": "text/x-python",
   "name": "python",
   "nbconvert_exporter": "python",
   "pygments_lexer": "ipython3",
   "version": "3.12.2"
  }
 },
 "nbformat": 4,
 "nbformat_minor": 2
}
