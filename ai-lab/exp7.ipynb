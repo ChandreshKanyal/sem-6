{
 "cells": [
  {
   "cell_type": "code",
   "execution_count": 2,
   "metadata": {},
   "outputs": [
    {
     "name": "stdout",
     "output_type": "stream",
     "text": [
      "The process of Unification failed!\n"
     ]
    }
   ],
   "source": [
    "def get_index_comma(string):\n",
    "    index_list, par_count = [], 0\n",
    "\n",
    "    for i, char in enumerate(string):\n",
    "        if char == ',' and par_count == 0:\n",
    "            index_list.append(i)\n",
    "        elif char == '(':\n",
    "            par_count += 1\n",
    "        elif char == ')':\n",
    "            par_count -= 1\n",
    "\n",
    "    return index_list\n",
    "\n",
    "def is_variable(expr):\n",
    "    return all(char not in '()' for char in expr)\n",
    "\n",
    "def process_expression(expr):\n",
    "    expr = expr.replace(' ', '')\n",
    "    predicate_symbol, _, expr = expr.partition('(')\n",
    "    arg_list = [expr[:-1]] if ',' not in expr else expr.split(',')\n",
    "    return predicate_symbol, arg_list\n",
    "\n",
    "def get_arg_list(expr):\n",
    "    arg_list = set()\n",
    "    for i in process_expression(expr)[1]:\n",
    "        if not is_variable(i):\n",
    "            arg_list.update(get_arg_list(i))\n",
    "        else:\n",
    "            arg_list.add(i)\n",
    "    return arg_list\n",
    "\n",
    "def check_occurs(var, expr):\n",
    "    return var in get_arg_list(expr)\n",
    "\n",
    "def unify(expr1, expr2):\n",
    "    if is_variable(expr1):\n",
    "        return expr2 if not check_occurs(expr1, expr2) else False\n",
    "    elif is_variable(expr2):\n",
    "        return expr1 if not check_occurs(expr2, expr1) else False\n",
    "    else:\n",
    "        pred_1, args_1 = process_expression(expr1)\n",
    "        pred_2, args_2 = process_expression(expr2)\n",
    "\n",
    "        if pred_1 != pred_2 or len(args_1) != len(args_2):\n",
    "            return False\n",
    "\n",
    "        subs = []\n",
    "        for arg1, arg2 in zip(args_1, args_2):\n",
    "            tmp = unify(arg1, arg2)\n",
    "            if not tmp:\n",
    "                return False\n",
    "            elif tmp != 'Null':\n",
    "                subs.extend(tmp if isinstance(tmp, list) else [tmp])\n",
    "        return subs\n",
    "\n",
    "if __name__ == '__main__':\n",
    "    f1 = 'Q(a, g(x, a), f(y))'\n",
    "    f2 = 'Q(a, g(f(b), a), x)'\n",
    "\n",
    "    result = unify(f1, f2)\n",
    "    if not result:\n",
    "        print('The process of Unification failed!')\n",
    "    else:\n",
    "        print('The process of Unification was successful!')\n",
    "        print(result)\n"
   ]
  }
 ],
 "metadata": {
  "kernelspec": {
   "display_name": "Python 3",
   "language": "python",
   "name": "python3"
  },
  "language_info": {
   "codemirror_mode": {
    "name": "ipython",
    "version": 3
   },
   "file_extension": ".py",
   "mimetype": "text/x-python",
   "name": "python",
   "nbconvert_exporter": "python",
   "pygments_lexer": "ipython3",
   "version": "3.12.2"
  }
 },
 "nbformat": 4,
 "nbformat_minor": 2
}
